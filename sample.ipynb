{
 "cells": [
  {
   "metadata": {},
   "cell_type": "markdown",
   "source": [
    "# This is a sample Jupyter Notebook\n",
    "\n",
    "Below is an example of a code cell. \n",
    "Put your cursor into the cell and press Shift+Enter to execute it and select the next one, or click 'Run Cell' button.\n",
    "\n",
    "Press Double Shift to search everywhere for classes, files, tool windows, actions, and settings.\n",
    "\n",
    "To learn more about Jupyter Notebooks in PyCharm, see [help](https://www.jetbrains.com/help/pycharm/ipython-notebook-support.html).\n",
    "For an overview of PyCharm, go to Help -> Learn IDE features or refer to [our documentation](https://www.jetbrains.com/help/pycharm/getting-started.html)."
   ],
   "id": "8a77807f92f26ee"
  },
  {
   "metadata": {
    "ExecuteTime": {
     "end_time": "2025-07-09T09:00:24.994252Z",
     "start_time": "2025-07-09T09:00:24.989997Z"
    }
   },
   "cell_type": "code",
   "source": "import polars as pl",
   "id": "d9cc2b09655c59ce",
   "outputs": [],
   "execution_count": 8
  },
  {
   "metadata": {
    "ExecuteTime": {
     "end_time": "2025-07-09T08:47:55.856775Z",
     "start_time": "2025-07-09T08:47:44.761767Z"
    }
   },
   "cell_type": "code",
   "source": [
    "from datasets import load_dataset\n",
    "\n",
    "cn_dataset = load_dataset(\"Helsinki-NLP/opus-100\", data_dir=\"en-zh\")"
   ],
   "id": "fbc121e30a2defb3",
   "outputs": [
    {
     "ename": "AttributeError",
     "evalue": "'DatasetDict' object has no attribute 'to_parquet'",
     "output_type": "error",
     "traceback": [
      "\u001B[31m---------------------------------------------------------------------------\u001B[39m",
      "\u001B[31mAttributeError\u001B[39m                            Traceback (most recent call last)",
      "\u001B[36mCell\u001B[39m\u001B[36m \u001B[39m\u001B[32mIn[1]\u001B[39m\u001B[32m, line 4\u001B[39m\n\u001B[32m      1\u001B[39m \u001B[38;5;28;01mfrom\u001B[39;00m\u001B[38;5;250m \u001B[39m\u001B[34;01mdatasets\u001B[39;00m\u001B[38;5;250m \u001B[39m\u001B[38;5;28;01mimport\u001B[39;00m load_dataset\n\u001B[32m      3\u001B[39m cn_dataset = load_dataset(\u001B[33m\"\u001B[39m\u001B[33mHelsinki-NLP/opus-100\u001B[39m\u001B[33m\"\u001B[39m, data_dir=\u001B[33m\"\u001B[39m\u001B[33men-zh\u001B[39m\u001B[33m\"\u001B[39m)\n\u001B[32m----> \u001B[39m\u001B[32m4\u001B[39m \u001B[43mcn_dataset\u001B[49m\u001B[43m.\u001B[49m\u001B[43mto_parquet\u001B[49m(\u001B[33m\"\u001B[39m\u001B[33mdata/raw/en-zh.parquet\u001B[39m\u001B[33m\"\u001B[39m)\n",
      "\u001B[31mAttributeError\u001B[39m: 'DatasetDict' object has no attribute 'to_parquet'"
     ]
    }
   ],
   "execution_count": 1
  },
  {
   "metadata": {
    "ExecuteTime": {
     "end_time": "2025-07-09T08:53:59.037797Z",
     "start_time": "2025-07-09T08:53:56.847658Z"
    }
   },
   "cell_type": "code",
   "source": [
    "for name, dataset in cn_dataset.items():\n",
    "    dataset.to_parquet(f\"./data/raw/en-zh-{name}.parquet\")"
   ],
   "id": "c11a7730e7b61e3a",
   "outputs": [
    {
     "data": {
      "text/plain": [
       "Creating parquet from Arrow format:   0%|          | 0/1000 [00:00<?, ?ba/s]"
      ],
      "application/vnd.jupyter.widget-view+json": {
       "version_major": 2,
       "version_minor": 0,
       "model_id": "29028bf5b77d409abe4842af2566bba1"
      }
     },
     "metadata": {},
     "output_type": "display_data"
    },
    {
     "data": {
      "text/plain": [
       "Creating parquet from Arrow format:   0%|          | 0/2 [00:00<?, ?ba/s]"
      ],
      "application/vnd.jupyter.widget-view+json": {
       "version_major": 2,
       "version_minor": 0,
       "model_id": "59b6ec621d2a4335a4c784976573e92a"
      }
     },
     "metadata": {},
     "output_type": "display_data"
    },
    {
     "data": {
      "text/plain": [
       "Creating parquet from Arrow format:   0%|          | 0/2 [00:00<?, ?ba/s]"
      ],
      "application/vnd.jupyter.widget-view+json": {
       "version_major": 2,
       "version_minor": 0,
       "model_id": "eede73f38b5442d68f31105df1994f4f"
      }
     },
     "metadata": {},
     "output_type": "display_data"
    }
   ],
   "execution_count": 7
  },
  {
   "metadata": {
    "ExecuteTime": {
     "end_time": "2025-07-09T09:00:42.324059Z",
     "start_time": "2025-07-09T09:00:42.113819Z"
    }
   },
   "cell_type": "code",
   "source": "df = pl.read_parquet(\"./data/raw/en-zh-train.parquet\")",
   "id": "956e54d8116444fc",
   "outputs": [],
   "execution_count": 9
  },
  {
   "metadata": {
    "ExecuteTime": {
     "end_time": "2025-07-09T09:02:32.859177Z",
     "start_time": "2025-07-09T09:02:32.835982Z"
    }
   },
   "cell_type": "code",
   "source": [
    "df.unnest(\"translation\").filter(\n",
    "    pl.col(\"en\").str.starts_with(\"a\")\n",
    ")"
   ],
   "id": "da51f6fd48012d46",
   "outputs": [
    {
     "data": {
      "text/plain": [
       "shape: (1_492, 2)\n",
       "┌─────────────────────────────────┬─────────────────────────────────┐\n",
       "│ en                              ┆ zh                              │\n",
       "│ ---                             ┆ ---                             │\n",
       "│ str                             ┆ str                             │\n",
       "╞═════════════════════════════════╪═════════════════════════════════╡\n",
       "│ and they don't contact at all.… ┆ 他们不怎么交流，好象一群陌生人  │\n",
       "│ and when mankind are mustered,… ┆ 當眾人被集合的時候，那些被崇拜  │\n",
       "│                                 ┆ 的，要變成那些崇拜者的仇敵，並… │\n",
       "│ and the Caribbean (Treaty of T… ┆ 2006年1月5日智利常驻联合国代表  │\n",
       "│                                 ┆ 团给秘书长的普通照会            │\n",
       "│ affronted that you'd even thin… ┆ 你会这么想我很受打击。          │\n",
       "│                                 ┆ affronted that you…             │\n",
       "│ as of 31 December 2007 (in mil… ┆ (单位：百万)                    │\n",
       "│ …                               ┆ …                               │\n",
       "│ and do not deliver short, and … ┆ 你們不要克扣他人所應得的財物。  │\n",
       "│                                 ┆ 你們不要在地方上為非作歹，擺弄… │\n",
       "│ a Partly estimated.             ┆ a 部分为估计数字。              │\n",
       "│ and from among their fathers, … ┆ （我曾引导）他们的一部分祖先、  │\n",
       "│                                 ┆ 后裔和弟兄，我曾拣选他们，并指… │\n",
       "│ a pig? There's only one cure:   ┆ 只有一个方法能治愈              │\n",
       "│ and that these in fact were th… ┆ 这些事实上也是同盟国,或联合国,  │\n",
       "│                                 ┆ 想要向它们的敌人提出的条件      │\n",
       "└─────────────────────────────────┴─────────────────────────────────┘"
      ],
      "text/html": [
       "<div><style>\n",
       ".dataframe > thead > tr,\n",
       ".dataframe > tbody > tr {\n",
       "  text-align: right;\n",
       "  white-space: pre-wrap;\n",
       "}\n",
       "</style>\n",
       "<small>shape: (1_492, 2)</small><table border=\"1\" class=\"dataframe\"><thead><tr><th>en</th><th>zh</th></tr><tr><td>str</td><td>str</td></tr></thead><tbody><tr><td>&quot;and they don&#x27;t contact at all.…</td><td>&quot;他们不怎么交流，好象一群陌生人&quot;</td></tr><tr><td>&quot;and when mankind are mustered,…</td><td>&quot;當眾人被集合的時候，那些被崇拜的，要變成那些崇拜者的仇敵，並…</td></tr><tr><td>&quot;and the Caribbean (Treaty of T…</td><td>&quot;2006年1月5日智利常驻联合国代表团给秘书长的普通照会&quot;</td></tr><tr><td>&quot;affronted that you&#x27;d even thin…</td><td>&quot;你会这么想我很受打击。 affronted that you…</td></tr><tr><td>&quot;as of 31 December 2007 (in mil…</td><td>&quot;(单位：百万)&quot;</td></tr><tr><td>&hellip;</td><td>&hellip;</td></tr><tr><td>&quot;and do not deliver short, and …</td><td>&quot;你們不要克扣他人所應得的財物。你們不要在地方上為非作歹，擺弄…</td></tr><tr><td>&quot;a Partly estimated.&quot;</td><td>&quot;a 部分为估计数字。&quot;</td></tr><tr><td>&quot;and from among their fathers, …</td><td>&quot;（我曾引导）他们的一部分祖先、后裔和弟兄，我曾拣选他们，并指…</td></tr><tr><td>&quot;a pig? There&#x27;s only one cure:&quot;</td><td>&quot;只有一个方法能治愈&quot;</td></tr><tr><td>&quot;and that these in fact were th…</td><td>&quot;这些事实上也是同盟国,或联合国, 想要向它们的敌人提出的条件&quot;</td></tr></tbody></table></div>"
      ]
     },
     "execution_count": 11,
     "metadata": {},
     "output_type": "execute_result"
    }
   ],
   "execution_count": 11
  }
 ],
 "metadata": {
  "kernelspec": {
   "display_name": "Python 3",
   "language": "python",
   "name": "python3"
  },
  "language_info": {
   "codemirror_mode": {
    "name": "ipython",
    "version": 2
   },
   "file_extension": ".py",
   "mimetype": "text/x-python",
   "name": "python",
   "nbconvert_exporter": "python",
   "pygments_lexer": "ipython2",
   "version": "2.7.6"
  }
 },
 "nbformat": 4,
 "nbformat_minor": 5
}
